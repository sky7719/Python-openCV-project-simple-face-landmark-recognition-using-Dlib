{
 "cells": [
  {
   "cell_type": "code",
   "execution_count": 1,
   "metadata": {},
   "outputs": [],
   "source": [
    "import cv2\n",
    "import dlib\n",
    "\n",
    "detector = dlib.get_frontal_face_detector()\n",
    "\n",
    "predictor = dlib.shape_predictor(\"shape_predictor_68_face_landmarks.dat\")\n",
    "\n",
    "cap = cv2.VideoCapture(1)\n",
    "\n",
    "while True:\n",
    "    _,frame = cap.read()\n",
    "    if _:\n",
    "        gray = cv2.cvtColor(frame,cv2.COLOR_BGR2GRAY)\n",
    "        faces = detector(gray)\n",
    "        for face in faces:\n",
    "            y1 = face.top()\n",
    "            x1 = face.left()\n",
    "            y2 = face.bottom()\n",
    "            x2 = face.right()\n",
    "            cv2.rectangle(frame,(x1,y1),(x2,y2),(130,49,109),1)\n",
    "            landmark = predictor(gray,face)\n",
    "            for i in range(0,67):\n",
    "                x = landmark.part(i).x\n",
    "                y = landmark.part(i).y\n",
    "\n",
    "                cv2.circle(frame,(x,y),1,(0,200,0),-1)\n",
    "\n",
    "        cv2.imshow(\"image\",frame)\n",
    "        if cv2.waitKey(1)==13:\n",
    "            break\n",
    "    else:\n",
    "        print(\"No image found!\")\n",
    "        break\n",
    "cap.release()\n",
    "cv2.destroyAllWindows()"
   ]
  },
  {
   "cell_type": "code",
   "execution_count": null,
   "metadata": {},
   "outputs": [],
   "source": []
  }
 ],
 "metadata": {
  "kernelspec": {
   "display_name": "Python 3",
   "language": "python",
   "name": "python3"
  },
  "language_info": {
   "codemirror_mode": {
    "name": "ipython",
    "version": 3
   },
   "file_extension": ".py",
   "mimetype": "text/x-python",
   "name": "python",
   "nbconvert_exporter": "python",
   "pygments_lexer": "ipython3",
   "version": "3.7.3"
  }
 },
 "nbformat": 4,
 "nbformat_minor": 2
}
